{
 "cells": [
  {
   "cell_type": "code",
   "execution_count": null,
   "id": "d6347c34",
   "metadata": {},
   "outputs": [],
   "source": [
    "import influxdb_client\n",
    "import os"
   ]
  },
  {
   "cell_type": "code",
   "execution_count": null,
   "id": "15ebe53e",
   "metadata": {},
   "outputs": [],
   "source": [
    "bucket = os.getenv(\"bucket\")\n",
    "org = os.getenv(\"org\")\n",
    "token = os.getenv(\"token\")\n",
    "url = \"http://localhost:8086\""
   ]
  },
  {
   "cell_type": "code",
   "execution_count": null,
   "id": "fb8c7fe4",
   "metadata": {},
   "outputs": [],
   "source": [
    "client = influxdb_client.InfluxDBClient(url=url, token=token, org=org)\n",
    "query_api = client.query_api()"
   ]
  },
  {
   "cell_type": "code",
   "execution_count": null,
   "id": "9cc0e339",
   "metadata": {},
   "outputs": [],
   "source": [
    "target_measurement = \"medaka\"\n",
    "target_field = \"temperature\""
   ]
  },
  {
   "cell_type": "code",
   "execution_count": null,
   "id": "0d2e4bef",
   "metadata": {},
   "outputs": [],
   "source": [
    "query = f\"\"\"\n",
    "from(bucket: \"{bucket}\")\n",
    "|> range(start: -1d)\n",
    "|> filter(fn: (r) => r._measurement == \"{target_measurement}\")\n",
    "|> filter(fn: (r) => r._field == \"{target_field}\")\n",
    "\"\"\""
   ]
  },
  {
   "cell_type": "code",
   "execution_count": null,
   "id": "8b4c9fa1",
   "metadata": {},
   "outputs": [],
   "source": [
    "result = query_api.query(org=org, query=query)"
   ]
  },
  {
   "cell_type": "code",
   "execution_count": null,
   "id": "5caad57a",
   "metadata": {},
   "outputs": [],
   "source": [
    "results = []\n",
    "for table in result:\n",
    "  for record in table.records:\n",
    "    results.append((record.get_field(), record.get_value(), record.get_time()))\n",
    "\n",
    "print(results)"
   ]
  },
  {
   "cell_type": "code",
   "execution_count": null,
   "id": "a18baa12",
   "metadata": {},
   "outputs": [],
   "source": [
    "import matplotlib.pyplot as plt\n",
    "import numpy as np\n",
    "from datetime import datetime, date, timedelta, time\n",
    "import pytz\n",
    "from typing import List"
   ]
  },
  {
   "cell_type": "code",
   "execution_count": null,
   "id": "42008a8e",
   "metadata": {},
   "outputs": [],
   "source": [
    "yesterday = date.today() - timedelta(days=1)\n",
    "begin_datetime_str = (pytz.timezone('Asia/Tokyo').localize(datetime.combine(yesterday, time()))).isoformat()\n",
    "stop_datetime_str = (pytz.timezone('Asia/Tokyo').localize(datetime.combine(date.today(), time()))).isoformat()"
   ]
  },
  {
   "cell_type": "code",
   "execution_count": null,
   "id": "8336366b",
   "metadata": {},
   "outputs": [],
   "source": [
    "print(f\"range: {begin_datetime_str} to {stop_datetime_str}\")"
   ]
  },
  {
   "cell_type": "code",
   "execution_count": null,
   "id": "690f5b0a",
   "metadata": {},
   "outputs": [],
   "source": [
    "query = f\"\"\"\n",
    "from(bucket: \"{bucket}\")\n",
    "|> range(start: {yesterday_begin_str_utc}, stop: {today_begin_str_utc})\n",
    "|> filter(fn: (r) => r._measurement == \"{target_measurement}\")\n",
    "|> filter(fn: (r) => r._field == \"{target_field}\")\n",
    "|> movingAverage(n: 5)\n",
    "\"\"\""
   ]
  },
  {
   "cell_type": "code",
   "execution_count": null,
   "id": "0ed3d24a",
   "metadata": {},
   "outputs": [],
   "source": [
    "result = query_api.query(org=org, query=query)"
   ]
  },
  {
   "cell_type": "code",
   "execution_count": null,
   "id": "9f37a0d6",
   "metadata": {},
   "outputs": [],
   "source": [
    "times = []\n",
    "values = []\n",
    "for table in result:\n",
    "    for record in table.records:\n",
    "        times.append(record.get_time())\n",
    "        values.append(record.get_value())"
   ]
  },
  {
   "cell_type": "code",
   "execution_count": null,
   "id": "81d246d2",
   "metadata": {},
   "outputs": [],
   "source": [
    "plt.plot(times, values)"
   ]
  },
  {
   "cell_type": "code",
   "execution_count": null,
   "id": "b341a070",
   "metadata": {},
   "outputs": [],
   "source": [
    "def get_data(bucket: str, target_measurement: str, target_field: str, days: int=7) -> List:\n",
    "    times_series = []\n",
    "    values_series = []\n",
    "    for idx in range(1, days+1):\n",
    "        begin_index_date = date.today() - timedelta(days=idx)\n",
    "        stop_index_date = date.today() - timedelta(days=(idx-1))\n",
    "        begin_datetime_str = (pytz.timezone('Asia/Tokyo').localize(datetime.combine(begin_index_date, time()))).isoformat()\n",
    "        stop_datetime_str = (pytz.timezone('Asia/Tokyo').localize(datetime.combine(stop_index_date, time()))).isoformat()\n",
    "        query = f\"\"\"\n",
    "    from(bucket: \"{bucket}\")\n",
    "    |> range(start: {begin_datetime_str}, stop: {stop_datetime_str})\n",
    "    |> filter(fn: (r) => r._measurement == \"{target_measurement}\")\n",
    "    |> filter(fn: (r) => r._field == \"{target_field}\")\n",
    "    |> movingAverage(n: 5)\n",
    "    \"\"\"\n",
    "        print(f\"range: {begin_datetime_str} to {stop_datetime_str}\")\n",
    "        result = query_api.query(org=org, query=query)\n",
    "        times = []\n",
    "        values = []\n",
    "        for table in result:\n",
    "            for record in table.records:\n",
    "                times.append(record.get_time())\n",
    "                values.append(record.get_value())\n",
    "        times_series.append(times)\n",
    "        values_series.append(values)\n",
    "    return times_series, values_series"
   ]
  },
  {
   "cell_type": "code",
   "execution_count": null,
   "id": "043faa03",
   "metadata": {},
   "outputs": [],
   "source": [
    "temp_times_series, temp_values_series = get_data(\"sensor-data\", \"medaka\", \"temperature\")"
   ]
  },
  {
   "cell_type": "code",
   "execution_count": null,
   "id": "6b52dcf3",
   "metadata": {},
   "outputs": [],
   "source": [
    "humid_times_series, humid_values_series = get_data(\"sensor-data\", \"medaka\", \"humidity\")"
   ]
  },
  {
   "cell_type": "code",
   "execution_count": null,
   "id": "9cb895a4",
   "metadata": {},
   "outputs": [],
   "source": [
    "for idx in range(7):\n",
    "    plt.plot(list(range(len(temp_values_series[idx]))), temp_values_series[idx])\n",
    "    plt.plot(list(range(len(humid_values_series[idx]))), humid_values_series[idx])"
   ]
  },
  {
   "cell_type": "code",
   "execution_count": null,
   "id": "6cc7ae95",
   "metadata": {},
   "outputs": [],
   "source": []
  }
 ],
 "metadata": {
  "kernelspec": {
   "display_name": "Python 3 (ipykernel)",
   "language": "python",
   "name": "python3"
  },
  "language_info": {
   "codemirror_mode": {
    "name": "ipython",
    "version": 3
   },
   "file_extension": ".py",
   "mimetype": "text/x-python",
   "name": "python",
   "nbconvert_exporter": "python",
   "pygments_lexer": "ipython3",
   "version": "3.7.3"
  }
 },
 "nbformat": 4,
 "nbformat_minor": 5
}
